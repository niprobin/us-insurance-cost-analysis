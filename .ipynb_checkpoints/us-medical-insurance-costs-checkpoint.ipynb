{
 "cells": [
  {
   "cell_type": "markdown",
   "metadata": {},
   "source": [
    "# U.S. Medical Insurance Costs"
   ]
  },
  {
   "cell_type": "code",
   "execution_count": 2,
   "metadata": {},
   "outputs": [],
   "source": [
    "import csv\n",
    "import statistics as stat\n",
    "import numpy as np\n",
    "import matplotlib.pyplot as plt"
   ]
  },
  {
   "cell_type": "code",
   "execution_count": 3,
   "metadata": {
    "scrolled": true
   },
   "outputs": [
    {
     "name": "stdout",
     "output_type": "stream",
     "text": [
      "19.0\n",
      "female\n",
      "27.9\n",
      "0\n",
      "yes\n",
      "southwest\n",
      "16884.924\n"
     ]
    }
   ],
   "source": [
    "age_list = []\n",
    "sex_list =[]\n",
    "bmi_list = []\n",
    "children_list = []\n",
    "smoker_list = []\n",
    "region_list = []\n",
    "charges_list = []\n",
    "\n",
    "\n",
    "with open('insurance.csv') as insurance_file:\n",
    "    insurance_data = csv.DictReader(insurance_file)\n",
    "    for row in insurance_data:\n",
    "        age_list.append(float(row['age']))\n",
    "        sex_list.append(row['sex'])\n",
    "        bmi_list.append(float(row['bmi']))\n",
    "        children_list.append(row['children'])\n",
    "        smoker_list.append(row['smoker'])\n",
    "        region_list.append(row['region'])\n",
    "        charges_list.append(float(row['charges']))\n",
    "\n",
    "print(age_list[0])\n",
    "print(sex_list[0])\n",
    "print(bmi_list[0])\n",
    "print(children_list[0])\n",
    "print(smoker_list[0])\n",
    "print(region_list[0])\n",
    "print(charges_list[0])\n"
   ]
  },
  {
   "cell_type": "markdown",
   "metadata": {
    "scrolled": true
   },
   "source": [
    "## Age Statistics of Sample Population"
   ]
  },
  {
   "cell_type": "code",
   "execution_count": 4,
   "metadata": {},
   "outputs": [
    {
     "data": {
      "text/plain": [
       "'The sample population has a mean age of 39.21, a median age of 39.0 and a standard deviation of 14.05'"
      ]
     },
     "execution_count": 4,
     "metadata": {},
     "output_type": "execute_result"
    }
   ],
   "source": [
    "def calculate_age(list):\n",
    "    average_age = round(stat.mean(list), 2)\n",
    "    median_age = round(stat.median(list), 2)\n",
    "    stdev_age = round(stat.stdev(list), 2)\n",
    "    return \"The sample population has a mean age of {average}, a median age of {median} and a standard deviation of {stdev}\".format(average=average_age, median=median_age, stdev=stdev_age)\n",
    "\n",
    "calculate_age(age_list)"
   ]
  },
  {
   "cell_type": "markdown",
   "metadata": {},
   "source": [
    "## Graph of Age Distribution"
   ]
  },
  {
   "cell_type": "code",
   "execution_count": 46,
   "metadata": {},
   "outputs": [
    {
     "data": {
      "image/png": "[encoded data removed]",
      "text/plain": [
       "<Figure size 432x288 with 1 Axes>"
      ]
     },
     "metadata": {
      "needs_background": "light"
     },
     "output_type": "display_data"
    }
   ],
   "source": [
    "hist_age_value = np.sort(age_list)\n",
    "plt.hist(hist_age_value, rwidth=0.9, bins=25)\n",
    "plt.show()"
   ]
  },
  {
   "cell_type": "markdown",
   "metadata": {},
   "source": [
    "## Region with most individuals"
   ]
  },
  {
   "cell_type": "code",
   "execution_count": 47,
   "metadata": {},
   "outputs": [
    {
     "data": {
      "image/png": "[encoded data removed]",
      "text/plain": [
       "<Figure size 432x288 with 1 Axes>"
      ]
     },
     "metadata": {
      "needs_background": "light"
     },
     "output_type": "display_data"
    }
   ],
   "source": [
    "def calculate_region_total(list):\n",
    "    southeast_total = 0\n",
    "    southwest_total = 0\n",
    "    northeast_total = 0\n",
    "    northwest_total = 0\n",
    "    for i in range(0, len(list)):\n",
    "        if list[i] == 'southeast':\n",
    "            southeast_total += 1  \n",
    "        elif list[i] == 'southwest':\n",
    "            southwest_total += 1  \n",
    "        elif list[i] == 'northeast':\n",
    "            northeast_total += 1  \n",
    "        else:\n",
    "            northwest_total +=1   \n",
    "    x_points = ['southeast', 'southwest', 'northeast', 'northwest']\n",
    "    y_points = [southeast_total, southwest_total, northeast_total, northwest_total]\n",
    "    plt.bar(x_points, y_points)\n",
    "    plt.show()\n",
    "\n",
    "calculate_region_total(region_list)"
   ]
  },
  {
   "cell_type": "markdown",
   "metadata": {},
   "source": [
    "## Smoker vs Non-Smoker"
   ]
  },
  {
   "cell_type": "code",
   "execution_count": null,
   "metadata": {},
   "outputs": [],
   "source": []
  },
  {
   "cell_type": "markdown",
   "metadata": {},
   "source": [
    "## Children vs No Child"
   ]
  },
  {
   "cell_type": "code",
   "execution_count": null,
   "metadata": {},
   "outputs": [],
   "source": []
  },
  {
   "cell_type": "markdown",
   "metadata": {},
   "source": [
    "## Average age of Parents"
   ]
  },
  {
   "cell_type": "code",
   "execution_count": null,
   "metadata": {},
   "outputs": [],
   "source": []
  },
  {
   "cell_type": "markdown",
   "metadata": {},
   "source": [
    "## Number of children vs Cost"
   ]
  },
  {
   "cell_type": "code",
   "execution_count": null,
   "metadata": {},
   "outputs": [],
   "source": []
  },
  {
   "cell_type": "markdown",
   "metadata": {},
   "source": [
    "## BMI score vs Cost "
   ]
  },
  {
   "cell_type": "code",
   "execution_count": null,
   "metadata": {},
   "outputs": [],
   "source": []
  }
 ],
 "metadata": {
  "kernelspec": {
   "display_name": "Python 3",
   "language": "python",
   "name": "python3"
  },
  "language_info": {
   "codemirror_mode": {
    "name": "ipython",
    "version": 3
   },
   "file_extension": ".py",
   "mimetype": "text/x-python",
   "name": "python",
   "nbconvert_exporter": "python",
   "pygments_lexer": "ipython3",
   "version": "3.7.6"
  }
 },
 "nbformat": 4,
 "nbformat_minor": 4
}
