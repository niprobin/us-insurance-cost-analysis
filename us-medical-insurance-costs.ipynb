{
 "cells": [
  {
   "cell_type": "markdown",
   "metadata": {},
   "source": [
    "# U.S. Medical Insurance Costs"
   ]
  },
  {
   "cell_type": "code",
   "execution_count": 109,
   "metadata": {},
   "outputs": [],
   "source": [
    "import csv\n",
    "import statistics as stat\n",
    "import numpy as np\n",
    "import matplotlib.pyplot as plt"
   ]
  },
  {
   "cell_type": "code",
   "execution_count": 110,
   "metadata": {
    "scrolled": true
   },
   "outputs": [],
   "source": [
    "age_list = []\n",
    "sex_list =[]\n",
    "bmi_list = []\n",
    "children_list = []\n",
    "smoker_list = []\n",
    "region_list = []\n",
    "charges_list = []\n",
    "\n",
    "\n",
    "with open('insurance.csv') as insurance_file:\n",
    "    insurance_data = csv.DictReader(insurance_file)\n",
    "    for row in insurance_data:\n",
    "        age_list.append(float(row['age']))\n",
    "        sex_list.append(row['sex'])\n",
    "        bmi_list.append(float(row['bmi']))\n",
    "        children_list.append(float(row['children']))\n",
    "        smoker_list.append(row['smoker'])\n",
    "        region_list.append(row['region'])\n",
    "        charges_list.append(float(row['charges']))"
   ]
  },
  {
   "cell_type": "markdown",
   "metadata": {
    "scrolled": true
   },
   "source": [
    "## Age Statistics of Sample Population"
   ]
  },
  {
   "cell_type": "code",
   "execution_count": 111,
   "metadata": {},
   "outputs": [
    {
     "data": {
      "text/plain": [
       "'The sample population has a mean age of 39.21, a median age of 39.0 and a standard deviation of 14.05'"
      ]
     },
     "execution_count": 111,
     "metadata": {},
     "output_type": "execute_result"
    }
   ],
   "source": [
    "def calculate_age(list):\n",
    "    average_age = round(stat.mean(list), 2)\n",
    "    median_age = round(stat.median(list), 2)\n",
    "    stdev_age = round(stat.stdev(list), 2)\n",
    "    return \"The sample population has a mean age of {average}, a median age of {median} and a standard deviation of {stdev}\".format(average=average_age, median=median_age, stdev=stdev_age)\n",
    "\n",
    "calculate_age(age_list)"
   ]
  },
  {
   "cell_type": "markdown",
   "metadata": {},
   "source": [
    "## Graph of Age Distribution"
   ]
  },
  {
   "cell_type": "code",
   "execution_count": 112,
   "metadata": {},
   "outputs": [
    {
     "data": {
      "image/png": "[encoded data removed]",
      "text/plain": [
       "<Figure size 432x288 with 1 Axes>"
      ]
     },
     "metadata": {
      "needs_background": "light"
     },
     "output_type": "display_data"
    }
   ],
   "source": [
    "hist_age_value = np.sort(age_list)\n",
    "plt.hist(hist_age_value, rwidth=0.9, bins=25)\n",
    "plt.show()"
   ]
  },
  {
   "cell_type": "markdown",
   "metadata": {},
   "source": [
    "## Region with most individuals\n",
    "Where are the individuals coming from"
   ]
  },
  {
   "cell_type": "code",
   "execution_count": 113,
   "metadata": {},
   "outputs": [
    {
     "data": {
      "image/png": "[encoded data removed]",
      "text/plain": [
       "<Figure size 432x288 with 1 Axes>"
      ]
     },
     "metadata": {
      "needs_background": "light"
     },
     "output_type": "display_data"
    }
   ],
   "source": [
    "def calculate_region_total(list):\n",
    "    southeast_total = 0\n",
    "    southwest_total = 0\n",
    "    northeast_total = 0\n",
    "    northwest_total = 0\n",
    "    for i in range(0, len(list)):\n",
    "        if list[i] == 'southeast':\n",
    "            southeast_total += 1  \n",
    "        elif list[i] == 'southwest':\n",
    "            southwest_total += 1  \n",
    "        elif list[i] == 'northeast':\n",
    "            northeast_total += 1  \n",
    "        else:\n",
    "            northwest_total +=1   \n",
    "    x_points = ['southeast', 'southwest', 'northeast', 'northwest']\n",
    "    y_points = [southeast_total, southwest_total, northeast_total, northwest_total]\n",
    "    plt.bar(x_points, y_points)\n",
    "    plt.show()\n",
    "\n",
    "calculate_region_total(region_list)"
   ]
  },
  {
   "cell_type": "markdown",
   "metadata": {},
   "source": [
    "# Part 1 | Analysis & Comparison"
   ]
  },
  {
   "cell_type": "code",
   "execution_count": 114,
   "metadata": {},
   "outputs": [],
   "source": [
    "final_findings = dict()"
   ]
  },
  {
   "cell_type": "markdown",
   "metadata": {},
   "source": [
    "## Smoker comparison\n",
    "We will compare the average cost of a smoker vs a non-smoker"
   ]
  },
  {
   "cell_type": "code",
   "execution_count": 115,
   "metadata": {},
   "outputs": [
    {
     "data": {
      "image/png": "[encoded data removed]",
      "text/plain": [
       "<Figure size 432x288 with 1 Axes>"
      ]
     },
     "metadata": {
      "needs_background": "light"
     },
     "output_type": "display_data"
    }
   ],
   "source": [
    "def calculate_smoker_comparison(smoker_list, charges_list):\n",
    "    total_smoker_cost = 0\n",
    "    smoker_count = 0\n",
    "    for i in range(0, len(smoker_list)):\n",
    "        if smoker_list[i] == \"yes\":\n",
    "            total_smoker_cost += charges_list[i]\n",
    "            smoker_count += 1\n",
    "        non_smoker_count = len(smoker_list) - smoker_count\n",
    "        total_non_smoker_cost = sum(charges_list) - total_smoker_cost\n",
    "    avg_smoker_cost = round(total_smoker_cost / smoker_count)\n",
    "    avg_non_smoker_cost = round(total_non_smoker_cost / non_smoker_count)\n",
    "    difference_smoker_cost = round(avg_smoker_cost - avg_non_smoker_cost)\n",
    "\n",
    "    #plot the data\n",
    "    x_points = ['smoker', 'non-smoker']\n",
    "    y_points = [avg_smoker_cost, avg_non_smoker_cost]\n",
    "    \n",
    "    plt.bar(x_points, y_points)\n",
    "    plt.ylabel('Insurance Cost')\n",
    "    plt.show()\n",
    "    \n",
    "    #return relevant variables\n",
    "    return avg_smoker_cost, difference_smoker_cost\n",
    "\n",
    "avg_smoker_cost, difference_smoker_cost = calculate_smoker_comparison(smoker_list, charges_list)\n",
    "\n",
    "final_findings.update({'Average Smoker Cost': avg_smoker_cost, 'Average Smoker Cost Penalty': difference_smoker_cost})"
   ]
  },
  {
   "cell_type": "markdown",
   "metadata": {},
   "source": [
    "## Children comparison\n",
    "We will compare the average cost of parent vs a individual without kids"
   ]
  },
  {
   "cell_type": "code",
   "execution_count": 116,
   "metadata": {},
   "outputs": [
    {
     "data": {
      "image/png": "[encoded data removed]",
      "text/plain": [
       "<Figure size 432x288 with 1 Axes>"
      ]
     },
     "metadata": {
      "needs_background": "light"
     },
     "output_type": "display_data"
    }
   ],
   "source": [
    "def calculate_children_comparison(children_list, charges_list):\n",
    "    parent_count = 0\n",
    "    total_parent_cost = 0\n",
    "    for i in range(0, len(children_list)):\n",
    "        if children_list[i] >= 1:\n",
    "            total_parent_cost += charges_list[i]\n",
    "            parent_count += 1\n",
    "        non_parent_count = len(children_list) - parent_count\n",
    "        total_non_parent_cost = sum(charges_list) - total_parent_cost\n",
    "    avg_parent_cost = round(total_parent_cost/parent_count)\n",
    "    avg_non_parent_cost = round(total_non_parent_cost/non_parent_count)\n",
    "    difference_parent_charges = avg_parent_cost - avg_non_parent_cost\n",
    "    \n",
    "    #plot the data\n",
    "    x_points = ['parent', 'non-parent']\n",
    "    y_points = [avg_parent_cost, avg_non_parent_cost]\n",
    "    \n",
    "    plt.bar(x_points, y_points)\n",
    "    plt.ylabel('Insurance Cost')\n",
    "    plt.show()\n",
    "    \n",
    "    #return relevant variables\n",
    "    return avg_parent_cost, difference_parent_charges\n",
    "\n",
    "avg_parent_cost, difference_parent_charges = calculate_children_comparison(children_list, charges_list)\n",
    "\n",
    "final_findings.update({'Average Parent Cost': avg_parent_cost, 'Average Parent Cost Penalty': difference_parent_charges})"
   ]
  },
  {
   "cell_type": "markdown",
   "metadata": {},
   "source": [
    "## Analysis of parents' age\n",
    "We will find the average age of a parent and also the youngest parent in the dataset"
   ]
  },
  {
   "cell_type": "code",
   "execution_count": 117,
   "metadata": {},
   "outputs": [],
   "source": [
    "def calculate_parent_age(age_list, children_list):\n",
    "    parent_age_list = []\n",
    "    for i in range(0, len(age_list)):\n",
    "        if children_list[i] >= 1:\n",
    "            parent_age_list.append(age_list[i])\n",
    "    average_parent_age = round(stat.mean(parent_age_list))\n",
    "    median_parent_age = round(stat.median(parent_age_list))\n",
    "    youngest_parent_age = min(parent_age_list)\n",
    "    return average_parent_age, youngest_parent_age\n",
    "\n",
    "average_parent_age, youngest_parent_age = calculate_parent_age(age_list, children_list)"
   ]
  },
  {
   "cell_type": "markdown",
   "metadata": {},
   "source": [
    "## BMI score comparison\n",
    "We will analyse the relation between BMI score and Insurance Cost.\n",
    "To do so we will isolate the BMI factor by filtering the population as follow:\n",
    "- age: 25-35\n",
    "- sex : female\n",
    "- children : 0\n",
    "- smoker : no\n",
    "-remove outlier : charges < 8000"
   ]
  },
  {
   "cell_type": "code",
   "execution_count": 118,
   "metadata": {},
   "outputs": [
    {
     "data": {
      "image/png": "[encoded data removed]",
      "text/plain": [
       "<Figure size 432x288 with 1 Axes>"
      ]
     },
     "metadata": {
      "needs_background": "light"
     },
     "output_type": "display_data"
    }
   ],
   "source": [
    "def plot_bmi_scores(bmi_list, charges_list):     \n",
    "    #create BMI weight status list\n",
    "    bmi_status_list = []\n",
    "    for i in range(0, len(bmi_list)):\n",
    "        if bmi_list[i] <= 18.5:\n",
    "            bmi_status_list.append('underweight')\n",
    "        elif bmi_list[i] <= 25.9:\n",
    "            bmi_status_list.append('healthy')\n",
    "        elif bmi_list[i] <= 29.9:\n",
    "            bmi_status_list.append('overweight')\n",
    "        else:\n",
    "            bmi_status_list.append('obese')\n",
    "            \n",
    "    #calculate BMI status average cost\n",
    "    underweight_count = 0\n",
    "    healthy_count = 0\n",
    "    overweight_count = 0\n",
    "    obese_count = 0\n",
    "    underweight_total_cost = 0\n",
    "    healthy_total_cost = 0\n",
    "    overweight_total_cost = 0\n",
    "    obese_total_cost = 0\n",
    "    for i in range(0, len(bmi_status_list)):\n",
    "        if bmi_status_list[i] == \"underweight\":\n",
    "            underweight_count += 1\n",
    "            underweight_total_cost += charges_list[i]\n",
    "        elif bmi_status_list[i] == \"healthy\":\n",
    "            healthy_count += 1\n",
    "            healthy_total_cost += charges_list[i]\n",
    "        elif bmi_status_list[i] == \"overweight\":\n",
    "            overweight_count += 1\n",
    "            overweight_total_cost += charges_list[i]\n",
    "        else:\n",
    "            obese_count += 1\n",
    "            obese_total_cost += charges_list[i]\n",
    "    avg_underweight_cost = round(underweight_total_cost/underweight_count)\n",
    "    avg_healthy_cost = round(healthy_total_cost/healthy_count)\n",
    "    avg_overweight_cost = round(overweight_total_cost/overweight_count)\n",
    "    avg_obese_cost = round(obese_total_cost/obese_count)\n",
    "    difference_obese_cost = avg_obese_cost-avg_healthy_cost\n",
    "    \n",
    "    #plot the data to see the difference in cost\n",
    "    x_points = ['underweight', 'healthy', 'overweight', 'obese']\n",
    "    y_points = [avg_underweight_cost, avg_healthy_cost, avg_overweight_cost, avg_obese_cost]\n",
    "    plt.bar(x_points, y_points)\n",
    "    plt.show\n",
    "    \n",
    "    #return the relevant variables for storage\n",
    "    return avg_healthy_cost, avg_obese_cost, difference_obese_cost\n",
    "            \n",
    "avg_healthy_cost, avg_obese_cost, difference_obese_cost = plot_bmi_scores(bmi_list, charges_list)\n",
    "\n",
    "final_findings.update({'Average Healthy BMI Cost': avg_healthy_cost, 'Average Obese BMI Cost': avg_obese_cost, 'Average Obese Penalty Cost Penalty': difference_obese_cost})\n"
   ]
  },
  {
   "cell_type": "markdown",
   "metadata": {},
   "source": [
    "## Show findings"
   ]
  },
  {
   "cell_type": "code",
   "execution_count": 119,
   "metadata": {},
   "outputs": [
    {
     "name": "stdout",
     "output_type": "stream",
     "text": [
      "The average smoker pays 32050 dollars in insurance costs. It is on average 23616 dollars more than a non-smoker.\n",
      "The average parent pays 13950 dollars in insurance costs. It is on average 1584 dollars more than someone without kids.\n",
      "The average obese person pays 15492 dollars in insurance costs. It is on average 4962 dollars more than an healthy person.\n"
     ]
    }
   ],
   "source": [
    "def show_findings(final_findings):\n",
    "    smoker_cost = final_findings['Average Smoker Cost']\n",
    "    smoker_penalty = final_findings['Average Smoker Cost Penalty']\n",
    "    smoker_findings = 'The average smoker pays {cost} dollars in insurance costs. It is on average {penalty} dollars more than a non-smoker.'.format(cost=smoker_cost, penalty=smoker_penalty)\n",
    "    parent_findings = 'The average parent pays {cost} dollars in insurance costs. It is on average {penalty} dollars more than someone without kids.'.format(cost=final_findings['Average Parent Cost'], penalty=final_findings['Average Parent Cost Penalty'])\n",
    "    bmi_findings = 'The average obese person pays {cost} dollars in insurance costs. It is on average {penalty} dollars more than an healthy person.'.format(cost=final_findings['Average Obese BMI Cost'], penalty=final_findings['Average Obese Penalty Cost Penalty'])\n",
    "    return smoker_findings, parent_findings, bmi_findings\n",
    "    \n",
    "smoker_findings, parent_findings, bmi_findings=show_findings(final_findings)\n",
    "\n",
    "print(smoker_findings)\n",
    "print(parent_findings)\n",
    "print(bmi_findings)"
   ]
  }
 ],
 "metadata": {
  "kernelspec": {
   "display_name": "Python 3",
   "language": "python",
   "name": "python3"
  },
  "language_info": {
   "codemirror_mode": {
    "name": "ipython",
    "version": 3
   },
   "file_extension": ".py",
   "mimetype": "text/x-python",
   "name": "python",
   "nbconvert_exporter": "python",
   "pygments_lexer": "ipython3",
   "version": "3.7.6"
  }
 },
 "nbformat": 4,
 "nbformat_minor": 4
}
